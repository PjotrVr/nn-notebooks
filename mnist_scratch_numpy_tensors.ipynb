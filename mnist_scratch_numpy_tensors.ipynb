{
  "nbformat": 4,
  "nbformat_minor": 0,
  "metadata": {
    "colab": {
      "provenance": []
    },
    "kernelspec": {
      "name": "python3",
      "display_name": "Python 3"
    },
    "language_info": {
      "name": "python"
    }
  },
  "cells": [
    {
      "cell_type": "markdown",
      "source": [
        "## Goal\n",
        "\n",
        "Create the same arhitecture in different ways going more low level each time. All accuracies and losses should end up being similar (~0.1% degree of error because of conversions between double and float)"
      ],
      "metadata": {
        "id": "sejM1D_wZJQK"
      }
    },
    {
      "cell_type": "code",
      "execution_count": 1,
      "metadata": {
        "id": "QPUoxdGS4Fii"
      },
      "outputs": [],
      "source": [
        "import matplotlib.pyplot as plt\n",
        "import math\n",
        "import random\n",
        "import numpy as np\n",
        "\n",
        "seed = 0\n",
        "%matplotlib inline"
      ]
    },
    {
      "cell_type": "code",
      "source": [
        "results = {}"
      ],
      "metadata": {
        "id": "wYbtdfadPV_W"
      },
      "execution_count": 2,
      "outputs": []
    },
    {
      "cell_type": "markdown",
      "source": [
        "## Dataset"
      ],
      "metadata": {
        "id": "Gm3kq0JK5fnX"
      }
    },
    {
      "cell_type": "code",
      "source": [
        "import torch\n",
        "import torchvision"
      ],
      "metadata": {
        "id": "Pk_pTKIy5fQs"
      },
      "execution_count": 3,
      "outputs": []
    },
    {
      "cell_type": "code",
      "source": [
        "torch.manual_seed(seed)"
      ],
      "metadata": {
        "colab": {
          "base_uri": "https://localhost:8080/"
        },
        "id": "oTqHzV418Ili",
        "outputId": "e8fa8959-3f80-46c2-94e7-aa60dae80dd0"
      },
      "execution_count": 4,
      "outputs": [
        {
          "output_type": "execute_result",
          "data": {
            "text/plain": [
              "<torch._C.Generator at 0x7a0d4d23bc50>"
            ]
          },
          "metadata": {},
          "execution_count": 4
        }
      ]
    },
    {
      "cell_type": "code",
      "source": [
        "# hyperparams\n",
        "bs = 32\n",
        "max_iters = 20_000\n",
        "lr = 1e-3\n",
        "div = 0.9\n",
        "n_hidden = 200\n",
        "input_dim = 28 * 28\n",
        "n_classes = 10"
      ],
      "metadata": {
        "id": "pJJZ8RzOGdWa"
      },
      "execution_count": 5,
      "outputs": []
    },
    {
      "cell_type": "code",
      "source": [
        "train_set = torchvision.datasets.MNIST(root=\"./\", train=True, transform=torchvision.transforms.ToTensor(), download=True)\n",
        "test_set = torchvision.datasets.MNIST(root=\"./\", train=False, transform=torchvision.transforms.ToTensor(), download=True)"
      ],
      "metadata": {
        "id": "q5mjRPn05gn2"
      },
      "execution_count": 6,
      "outputs": []
    },
    {
      "cell_type": "code",
      "source": [
        "X_trainval = train_set.data.float() / 255.\n",
        "y_trainval = train_set.targets\n",
        "X_test = test_set.data.float() / 255.\n",
        "y_test = test_set.targets"
      ],
      "metadata": {
        "id": "Oy8Pcjcu7f3s"
      },
      "execution_count": 7,
      "outputs": []
    },
    {
      "cell_type": "code",
      "source": [
        "X_trainval.shape, y_trainval.shape, X_test.shape, y_test.shape"
      ],
      "metadata": {
        "colab": {
          "base_uri": "https://localhost:8080/"
        },
        "id": "ohiBImA67pXP",
        "outputId": "fad650b8-7d81-4d4f-cc4a-d697a8848c7d"
      },
      "execution_count": 8,
      "outputs": [
        {
          "output_type": "execute_result",
          "data": {
            "text/plain": [
              "(torch.Size([60000, 28, 28]),\n",
              " torch.Size([60000]),\n",
              " torch.Size([10000, 28, 28]),\n",
              " torch.Size([10000]))"
            ]
          },
          "metadata": {},
          "execution_count": 8
        }
      ]
    },
    {
      "cell_type": "code",
      "source": [
        "from sklearn.model_selection import train_test_split\n",
        "\n",
        "# Splitting the data into training and validation sets\n",
        "X_train, X_val, y_train, y_val = train_test_split(X_trainval, y_trainval, test_size=1-div, stratify=y_trainval, random_state=42)\n",
        "\n",
        "# Convert to PyTorch tensors and normalize\n",
        "X_train = torch.tensor(X_train).float()\n",
        "X_val = torch.tensor(X_val).float()\n",
        "y_train = torch.tensor(y_train)\n",
        "y_val = torch.tensor(y_val)"
      ],
      "metadata": {
        "colab": {
          "base_uri": "https://localhost:8080/"
        },
        "id": "eIqezKsUgoKJ",
        "outputId": "da2a4d10-f6a5-4f00-b917-c96ee833375e"
      },
      "execution_count": 9,
      "outputs": [
        {
          "output_type": "stream",
          "name": "stderr",
          "text": [
            "<ipython-input-9-4e9595382d42>:7: UserWarning: To copy construct from a tensor, it is recommended to use sourceTensor.clone().detach() or sourceTensor.clone().detach().requires_grad_(True), rather than torch.tensor(sourceTensor).\n",
            "  X_train = torch.tensor(X_train).float()\n",
            "<ipython-input-9-4e9595382d42>:8: UserWarning: To copy construct from a tensor, it is recommended to use sourceTensor.clone().detach() or sourceTensor.clone().detach().requires_grad_(True), rather than torch.tensor(sourceTensor).\n",
            "  X_val = torch.tensor(X_val).float()\n",
            "<ipython-input-9-4e9595382d42>:9: UserWarning: To copy construct from a tensor, it is recommended to use sourceTensor.clone().detach() or sourceTensor.clone().detach().requires_grad_(True), rather than torch.tensor(sourceTensor).\n",
            "  y_train = torch.tensor(y_train)\n",
            "<ipython-input-9-4e9595382d42>:10: UserWarning: To copy construct from a tensor, it is recommended to use sourceTensor.clone().detach() or sourceTensor.clone().detach().requires_grad_(True), rather than torch.tensor(sourceTensor).\n",
            "  y_val = torch.tensor(y_val)\n"
          ]
        }
      ]
    },
    {
      "cell_type": "code",
      "source": [
        "X_train.shape, y_train.shape"
      ],
      "metadata": {
        "colab": {
          "base_uri": "https://localhost:8080/"
        },
        "id": "EcafWgUE7Uhv",
        "outputId": "b5ea478e-d589-41fe-e9d1-af860f2825e2"
      },
      "execution_count": 10,
      "outputs": [
        {
          "output_type": "execute_result",
          "data": {
            "text/plain": [
              "(torch.Size([54000, 28, 28]), torch.Size([54000]))"
            ]
          },
          "metadata": {},
          "execution_count": 10
        }
      ]
    },
    {
      "cell_type": "code",
      "source": [
        "np_X_train = X_train.numpy()\n",
        "np_y_train = y_train.numpy()\n",
        "np_X_val = X_val.numpy()\n",
        "np_y_val = y_val.numpy()\n",
        "np_X_test = X_test.numpy()\n",
        "np_y_test = y_test.numpy()"
      ],
      "metadata": {
        "id": "8WD-jvnnGS8e"
      },
      "execution_count": 11,
      "outputs": []
    },
    {
      "cell_type": "markdown",
      "source": [
        "## Classic Torch NN with modules (#CheemDog)"
      ],
      "metadata": {
        "id": "UjTOV0A64L6z"
      }
    },
    {
      "cell_type": "code",
      "source": [
        "import torch\n",
        "import torch.nn as nn\n",
        "import torch.nn.functional as F\n",
        "import torch.optim as optim"
      ],
      "metadata": {
        "id": "cySId6_36Dv8"
      },
      "execution_count": 12,
      "outputs": []
    },
    {
      "cell_type": "code",
      "source": [
        "torch.manual_seed(seed)\n",
        "np.random.seed(seed)"
      ],
      "metadata": {
        "id": "fuBtPSW-_7vN"
      },
      "execution_count": 13,
      "outputs": []
    },
    {
      "cell_type": "code",
      "source": [
        "def get_batch(X, y):\n",
        "    idx = torch.tensor(np.random.choice(X.shape[0], size=bs, replace=False), dtype=torch.long)\n",
        "    Xb = X[idx].reshape(-1, input_dim)\n",
        "    yb = y[idx]\n",
        "    return Xb, yb\n",
        "\n",
        "@torch.no_grad()\n",
        "def evaluate_loss(X, y):\n",
        "    outs = model(X.view(-1, input_dim))\n",
        "    loss = criterion(outs, y)\n",
        "    acc = (torch.argmax(outs, dim=1) == y).float().mean() * 100\n",
        "    return loss.item(), acc.item()"
      ],
      "metadata": {
        "id": "3mefAiYKKn2v"
      },
      "execution_count": 14,
      "outputs": []
    },
    {
      "cell_type": "code",
      "source": [
        "class NN(nn.Module):\n",
        "\n",
        "    def __init__(self):\n",
        "        super().__init__()\n",
        "        self.relu = nn.ReLU()\n",
        "        self.fc1 = nn.Linear(input_dim, n_hidden)\n",
        "        self.fc2 = nn.Linear(n_hidden, n_classes)\n",
        "\n",
        "    def forward(self, x):\n",
        "        x = self.fc1(x)\n",
        "        x = self.relu(x)\n",
        "        x = self.fc2(x)\n",
        "        return x"
      ],
      "metadata": {
        "id": "nJ55wXkz6Dy7"
      },
      "execution_count": 15,
      "outputs": []
    },
    {
      "cell_type": "code",
      "source": [
        "model = NN()\n",
        "\n",
        "# Normal distribution with Kaim init\n",
        "W1 = np.random.randn(n_hidden, input_dim) * np.sqrt(2. / input_dim)\n",
        "b1 = np.zeros(n_hidden)\n",
        "W2 = np.random.randn(n_classes, n_hidden) * np.sqrt(1. / n_hidden)\n",
        "b2 = np.zeros(n_classes)\n",
        "\n",
        "with torch.no_grad():\n",
        "    model.fc1.weight.copy_(torch.tensor(W1))\n",
        "    model.fc1.bias.copy_(torch.tensor(b1))\n",
        "    model.fc2.weight.copy_(torch.tensor(W2))\n",
        "    model.fc2.bias.copy_(torch.tensor(b2))"
      ],
      "metadata": {
        "id": "PPyQPuXs4SWZ"
      },
      "execution_count": 16,
      "outputs": []
    },
    {
      "cell_type": "code",
      "source": [
        "optimizer = optim.SGD(model.parameters(), lr=lr)\n",
        "criterion = nn.CrossEntropyLoss()"
      ],
      "metadata": {
        "id": "rKxnTuBDIpEG"
      },
      "execution_count": 17,
      "outputs": []
    },
    {
      "cell_type": "code",
      "source": [
        "for i in range(max_iters):\n",
        "    X, y = get_batch(X_train, y_train)\n",
        "    y_preds = model(X)\n",
        "    loss = criterion(y_preds, y)\n",
        "    optimizer.zero_grad()\n",
        "    loss.backward()\n",
        "    optimizer.step()"
      ],
      "metadata": {
        "id": "AvptxSYxJU52"
      },
      "execution_count": 18,
      "outputs": []
    },
    {
      "cell_type": "code",
      "source": [
        "torch_model_perf = (evaluate_loss(X_train, y_train), evaluate_loss(X_val, y_val), evaluate_loss(X_test, y_test))\n",
        "results[\"torch_model\"] = torch_model_perf"
      ],
      "metadata": {
        "id": "rBNyZanWZgPj"
      },
      "execution_count": 19,
      "outputs": []
    },
    {
      "cell_type": "code",
      "source": [
        "torch_model_perf"
      ],
      "metadata": {
        "colab": {
          "base_uri": "https://localhost:8080/"
        },
        "id": "gZ71F5oAdmfg",
        "outputId": "22c4f166-902f-4eac-f881-492d5abe922e"
      },
      "execution_count": 20,
      "outputs": [
        {
          "output_type": "execute_result",
          "data": {
            "text/plain": [
              "((0.3745570778846741, 89.8351821899414),\n",
              " (0.379736989736557, 89.71666717529297),\n",
              " (0.3565691113471985, 90.34000396728516))"
            ]
          },
          "metadata": {},
          "execution_count": 20
        }
      ]
    },
    {
      "cell_type": "markdown",
      "source": [
        "## Using Torch Tensors with .backward()"
      ],
      "metadata": {
        "id": "_Kt8yPHl9Ncu"
      }
    },
    {
      "cell_type": "code",
      "source": [
        "import torch\n",
        "import torch.nn.functional as F"
      ],
      "metadata": {
        "id": "V_wnusJb_-0i"
      },
      "execution_count": 21,
      "outputs": []
    },
    {
      "cell_type": "code",
      "source": [
        "torch.manual_seed(seed)\n",
        "np.random.seed(seed)"
      ],
      "metadata": {
        "id": "Sw5d4cKY_91P"
      },
      "execution_count": 22,
      "outputs": []
    },
    {
      "cell_type": "code",
      "source": [
        "def softmax(X):\n",
        "    X_maxes = X.max(dim=1, keepdim=True).values\n",
        "    counts = (X - X_maxes).exp()\n",
        "    probs = counts / counts.sum(dim=1, keepdim=True)\n",
        "    return probs\n",
        "\n",
        "def cross_entropy(X, y):\n",
        "    logprobs = softmax(X).log()\n",
        "    loss = -logprobs[range(y.shape[0]), y].mean()\n",
        "    return loss\n",
        "\n",
        "def relu(X):\n",
        "    return torch.maximum(torch.tensor(0), X)\n",
        "\n",
        "@torch.no_grad()\n",
        "def evaluate_loss(X, y):\n",
        "    outs = X.view(-1, input_dim) @ W1.t() + b1\n",
        "    outs = relu(outs)\n",
        "    outs = outs @ W2.t() + b2\n",
        "    loss = F.cross_entropy(outs, y)\n",
        "    acc = (torch.argmax(outs, dim=1) == y).float().mean() * 100\n",
        "    return loss.item(), acc.item()"
      ],
      "metadata": {
        "id": "pZCU-tvxQ6Yf"
      },
      "execution_count": 23,
      "outputs": []
    },
    {
      "cell_type": "code",
      "source": [
        "# Normal distribution with Kaim init\n",
        "W1 = np.random.randn(n_hidden, input_dim) * np.sqrt(2. / input_dim)\n",
        "b1 = np.zeros(n_hidden)\n",
        "W2 = np.random.randn(n_classes, n_hidden) * np.sqrt(1. / n_hidden)\n",
        "b2 = np.zeros(n_classes)\n",
        "\n",
        "W1 = torch.tensor(W1).float()\n",
        "b1 = torch.tensor(b1).float()\n",
        "W2 = torch.tensor(W2).float()\n",
        "b2 = torch.tensor(b2).float()\n",
        "\n",
        "params = [W1, b1, W2, b2]\n",
        "\n",
        "for p in params:\n",
        "    p.requires_grad = True"
      ],
      "metadata": {
        "id": "k5WeUCXjA2FF"
      },
      "execution_count": 24,
      "outputs": []
    },
    {
      "cell_type": "code",
      "source": [
        "for i in range(max_iters):\n",
        "    X, y = get_batch(X_train, y_train)\n",
        "    o1 = X @ W1.t() + b1\n",
        "    a1 = relu(o1)\n",
        "    o2 = a1 @ W2.t() + b2\n",
        "\n",
        "    loss = cross_entropy(o2, y)\n",
        "    for p in params:\n",
        "        p.grad = None\n",
        "\n",
        "    loss.backward()\n",
        "    for p in params:\n",
        "        p.data -= lr * p.grad"
      ],
      "metadata": {
        "id": "cjogZj1mup0w"
      },
      "execution_count": 25,
      "outputs": []
    },
    {
      "cell_type": "code",
      "source": [
        "torch_auto_perf = (evaluate_loss(X_train, y_train), evaluate_loss(X_val, y_val), evaluate_loss(X_test, y_test))\n",
        "results[\"torch_auto\"] = torch_auto_perf"
      ],
      "metadata": {
        "id": "KJXkEWQQZu6R"
      },
      "execution_count": 26,
      "outputs": []
    },
    {
      "cell_type": "code",
      "source": [
        "torch_auto_perf"
      ],
      "metadata": {
        "colab": {
          "base_uri": "https://localhost:8080/"
        },
        "id": "0O-j-pvljBrx",
        "outputId": "4bfb9223-5db1-4209-f7a2-a8b00777ed9e"
      },
      "execution_count": 27,
      "outputs": [
        {
          "output_type": "execute_result",
          "data": {
            "text/plain": [
              "((0.3745569884777069, 89.8351821899414),\n",
              " (0.3797368109226227, 89.71666717529297),\n",
              " (0.35656896233558655, 90.3499984741211))"
            ]
          },
          "metadata": {},
          "execution_count": 27
        }
      ]
    },
    {
      "cell_type": "markdown",
      "source": [
        "## Using Torch Tensors with manual backprop and loss"
      ],
      "metadata": {
        "id": "D1w-0wbM4Tki"
      }
    },
    {
      "cell_type": "code",
      "source": [
        "import torch\n",
        "import torch.nn.functional as F"
      ],
      "metadata": {
        "id": "CLuQAgXMAGu8"
      },
      "execution_count": 28,
      "outputs": []
    },
    {
      "cell_type": "code",
      "source": [
        "torch.manual_seed(seed)\n",
        "np.random.seed(seed)"
      ],
      "metadata": {
        "id": "PJVsxGjx4VUN"
      },
      "execution_count": 29,
      "outputs": []
    },
    {
      "cell_type": "code",
      "source": [
        "# Normal distribution with Kaim init\n",
        "W1 = np.random.randn(n_hidden, input_dim) * np.sqrt(2. / input_dim)\n",
        "b1 = np.zeros(n_hidden)\n",
        "W2 = np.random.randn(n_classes, n_hidden) * np.sqrt(1. / n_hidden)\n",
        "b2 = np.zeros(n_classes)\n",
        "\n",
        "W1 = torch.tensor(W1).float()\n",
        "b1 = torch.tensor(b1).float()\n",
        "W2 = torch.tensor(W2).float()\n",
        "b2 = torch.tensor(b2).float()\n",
        "\n",
        "dW1 = None\n",
        "db1 = None\n",
        "dW2 = None\n",
        "db2 = None\n",
        "\n",
        "params = [W1, b1, W2, b2]\n",
        "dparams = [dW1, db1, dW2, db2]"
      ],
      "metadata": {
        "id": "V7H45okJAGyc"
      },
      "execution_count": 30,
      "outputs": []
    },
    {
      "cell_type": "code",
      "source": [
        "for i in range(max_iters):\n",
        "    # mini batch\n",
        "    X, y = get_batch(X_train, y_train)\n",
        "\n",
        "    # linear and act layers\n",
        "    o1 = X @ W1.t() + b1\n",
        "    a1 = relu(o1)\n",
        "    o2 = a1 @ W2.t() + b2\n",
        "\n",
        "    # loss\n",
        "    loss = cross_entropy(o2, y)\n",
        "\n",
        "    # dloss\n",
        "    do2 = softmax(o2)\n",
        "    do2[range(bs), y] -= 1\n",
        "    do2 /= bs\n",
        "\n",
        "    # dfc2\n",
        "    da1 = do2 @ W2\n",
        "    dW2 = do2.t() @ a1\n",
        "    db2 = do2.sum(dim=0)\n",
        "\n",
        "    # dact1\n",
        "    do1 = da1 * (o1 > 0).float()\n",
        "\n",
        "    # dfc1\n",
        "    dW1 = do1.t() @ X\n",
        "    db1 = do1.sum(dim=0)\n",
        "\n",
        "    dparams = [dW1, db1, dW2, db2]\n",
        "    for p, dp in zip(params, dparams):\n",
        "        p -= dp * lr\n",
        "        dp = None\n",
        "\n",
        "loss.item()"
      ],
      "metadata": {
        "colab": {
          "base_uri": "https://localhost:8080/"
        },
        "id": "EmGRbVTI6wmH",
        "outputId": "a38ee15e-370c-43b2-87ca-2c371b480b33"
      },
      "execution_count": 31,
      "outputs": [
        {
          "output_type": "execute_result",
          "data": {
            "text/plain": [
              "0.2845746576786041"
            ]
          },
          "metadata": {},
          "execution_count": 31
        }
      ]
    },
    {
      "cell_type": "code",
      "source": [
        "torch_manual_perf = (evaluate_loss(X_train, y_train), evaluate_loss(X_val, y_val), evaluate_loss(X_test, y_test))\n",
        "results[\"torch_manual\"] = torch_manual_perf"
      ],
      "metadata": {
        "id": "kLOTJPFLZ7G6"
      },
      "execution_count": 32,
      "outputs": []
    },
    {
      "cell_type": "markdown",
      "source": [
        "## Using Numpy (#SwoleDog)"
      ],
      "metadata": {
        "id": "dBkG8ZVf4Wme"
      }
    },
    {
      "cell_type": "code",
      "source": [
        "import numpy as np"
      ],
      "metadata": {
        "id": "-OHa4Mle4a-H"
      },
      "execution_count": 33,
      "outputs": []
    },
    {
      "cell_type": "code",
      "source": [
        "torch.manual_seed(seed)\n",
        "np.random.seed(seed)"
      ],
      "metadata": {
        "id": "cSUK4ESRAbW5"
      },
      "execution_count": 34,
      "outputs": []
    },
    {
      "cell_type": "code",
      "source": [
        "def np_softmax(X):\n",
        "    X_maxes = X.max(axis=1, keepdims=True)\n",
        "    counts = np.exp(X - X_maxes)\n",
        "    probs = counts / np.sum(counts, axis=1, keepdims=True)\n",
        "    return probs\n",
        "\n",
        "def np_cross_entropy(X, y):\n",
        "    logprobs = np.log(np_softmax(X))\n",
        "    loss = -np.mean(logprobs[range(y.shape[0]), y])\n",
        "    return loss\n",
        "\n",
        "def np_relu(X):\n",
        "    return np.maximum(X, 0)\n",
        "\n",
        "def np_get_batch(X, y):\n",
        "    idx = np.random.choice(X.shape[0], size=bs, replace=False)\n",
        "    Xb = X[idx].reshape((-1, input_dim))\n",
        "    yb = y[idx]\n",
        "    return Xb, yb\n",
        "\n",
        "def np_evaluate_loss(X, y):\n",
        "    outs = np_relu(np.matmul(X.reshape(-1, input_dim), W1.T) + b1)\n",
        "    outs = np.matmul(outs, W2.T) + b2\n",
        "    test_loss = np_cross_entropy(outs, y)\n",
        "    acc = np.mean((np.equal(np.argmax(outs, axis=1), y)).astype(float)) * 100\n",
        "    return loss, acc"
      ],
      "metadata": {
        "id": "8EhjmEo8czLQ"
      },
      "execution_count": 35,
      "outputs": []
    },
    {
      "cell_type": "code",
      "source": [
        "# Normal distribution with Kaim init\n",
        "W1 = np.random.randn(n_hidden, input_dim) * np.sqrt(2. / input_dim)\n",
        "b1 = np.zeros(n_hidden)\n",
        "W2 = np.random.randn(n_classes, n_hidden) * np.sqrt(1. / n_hidden)\n",
        "b2 = np.zeros(n_classes)\n",
        "\n",
        "dW1 = None\n",
        "db1 = None\n",
        "dW2 = None\n",
        "db2 = None\n",
        "\n",
        "params = [W1, b1, W2, b2]\n",
        "dparams = [dW1, db1, dW2, db2]"
      ],
      "metadata": {
        "id": "L5WNE4-xoJPP"
      },
      "execution_count": 36,
      "outputs": []
    },
    {
      "cell_type": "code",
      "source": [
        "for i in range(max_iters):\n",
        "    X, y = np_get_batch(np_X_train, np_y_train)\n",
        "\n",
        "    # linear and act layers\n",
        "    o1 = np.matmul(X, W1.T) + b1\n",
        "    a1 = np_relu(o1)\n",
        "    o2 = np.matmul(a1, W2.T) + b2\n",
        "\n",
        "    # loss\n",
        "    loss = np_cross_entropy(o2, y)\n",
        "\n",
        "    # dloss\n",
        "    do2 = np_softmax(o2)\n",
        "    do2[range(bs), y] -= 1\n",
        "    do2 /= bs\n",
        "\n",
        "    # dfc2\n",
        "    da1 = np.matmul(do2, W2)\n",
        "    dW2 = np.matmul(do2.T, a1)\n",
        "    db2 = np.sum(do2, axis=0)\n",
        "\n",
        "    # dact1\n",
        "    do1 = da1 * (o1 > 0).astype(float)\n",
        "\n",
        "    # dfc1\n",
        "    dW1 = np.matmul(do1.T, X)\n",
        "    db1 = np.sum(do1, axis=0)\n",
        "\n",
        "    dparams = [dW1, db1, dW2, db2]\n",
        "    for p, dp in zip(params, dparams):\n",
        "        p -= dp * lr\n",
        "        dp = None"
      ],
      "metadata": {
        "id": "EsFxOrhlHNqh"
      },
      "execution_count": 37,
      "outputs": []
    },
    {
      "cell_type": "code",
      "source": [
        "np_manual_perf = (np_evaluate_loss(np_X_train, np_y_train), np_evaluate_loss(np_X_val, np_y_val), np_evaluate_loss(np_X_test, np_y_test))\n",
        "results[\"np_manual\"] = np_manual_perf"
      ],
      "metadata": {
        "id": "Z4qa4PIoO4he"
      },
      "execution_count": 38,
      "outputs": []
    },
    {
      "cell_type": "markdown",
      "source": [
        "## Results"
      ],
      "metadata": {
        "id": "TiWJAc2oajYv"
      }
    },
    {
      "cell_type": "code",
      "source": [
        "results[\"torch_model\"]"
      ],
      "metadata": {
        "colab": {
          "base_uri": "https://localhost:8080/"
        },
        "id": "odwi9VugaifS",
        "outputId": "e3e4a5b3-2d18-43c9-b2a0-03b6ce9d2ea7"
      },
      "execution_count": 39,
      "outputs": [
        {
          "output_type": "execute_result",
          "data": {
            "text/plain": [
              "((0.3745570778846741, 89.8351821899414),\n",
              " (0.379736989736557, 89.71666717529297),\n",
              " (0.3565691113471985, 90.34000396728516))"
            ]
          },
          "metadata": {},
          "execution_count": 39
        }
      ]
    },
    {
      "cell_type": "code",
      "source": [
        "results[\"torch_auto\"]"
      ],
      "metadata": {
        "colab": {
          "base_uri": "https://localhost:8080/"
        },
        "id": "m7Hsym7zaPeK",
        "outputId": "f15f7f21-b66b-4270-e46c-35b76d70c95c"
      },
      "execution_count": 40,
      "outputs": [
        {
          "output_type": "execute_result",
          "data": {
            "text/plain": [
              "((0.3745569884777069, 89.8351821899414),\n",
              " (0.3797368109226227, 89.71666717529297),\n",
              " (0.35656896233558655, 90.3499984741211))"
            ]
          },
          "metadata": {},
          "execution_count": 40
        }
      ]
    },
    {
      "cell_type": "code",
      "source": [
        "results[\"torch_manual\"]"
      ],
      "metadata": {
        "colab": {
          "base_uri": "https://localhost:8080/"
        },
        "id": "aOiCg4S6anE7",
        "outputId": "66e85505-ebf4-418e-fcc5-aa18dc95bff5"
      },
      "execution_count": 41,
      "outputs": [
        {
          "output_type": "execute_result",
          "data": {
            "text/plain": [
              "((0.3745570778846741, 89.8351821899414),\n",
              " (0.379736989736557, 89.71666717529297),\n",
              " (0.3565691113471985, 90.34000396728516))"
            ]
          },
          "metadata": {},
          "execution_count": 41
        }
      ]
    },
    {
      "cell_type": "code",
      "source": [
        "results[\"np_manual\"]"
      ],
      "metadata": {
        "colab": {
          "base_uri": "https://localhost:8080/"
        },
        "id": "P6Km8KW7aoJB",
        "outputId": "2908e1c9-8e76-42e6-b053-e30ce52b8f87"
      },
      "execution_count": 42,
      "outputs": [
        {
          "output_type": "execute_result",
          "data": {
            "text/plain": [
              "((0.2845722178214382, 89.83518518518518),\n",
              " (0.2845722178214382, 89.71666666666667),\n",
              " (0.2845722178214382, 90.36))"
            ]
          },
          "metadata": {},
          "execution_count": 42
        }
      ]
    },
    {
      "cell_type": "code",
      "source": [
        "def np_predict(X):\n",
        "    if X.shape[-1] != input_dim:\n",
        "        X = X.reshape((-1, input_dim))\n",
        "    o1 = np.matmul(X, W1.T) + b1\n",
        "    a1 = np_relu(o1)\n",
        "    o2 = np.matmul(a1, W2.T) + b2\n",
        "    probs = np_softmax(o2)\n",
        "    preds = np.argmax(probs, axis=1)\n",
        "    if preds.shape[0] == 1:\n",
        "        return preds[0]\n",
        "    else:\n",
        "        return preds"
      ],
      "metadata": {
        "id": "yq69XE9knYqb"
      },
      "execution_count": 66,
      "outputs": []
    },
    {
      "cell_type": "code",
      "source": [
        "np_predict(np_X_test[0]), np_y_test[0]"
      ],
      "metadata": {
        "colab": {
          "base_uri": "https://localhost:8080/"
        },
        "id": "7k2fL5ESpf7F",
        "outputId": "4fc9961a-9e00-418f-80df-2dfe0b1bb828"
      },
      "execution_count": 67,
      "outputs": [
        {
          "output_type": "execute_result",
          "data": {
            "text/plain": [
              "(7, 7)"
            ]
          },
          "metadata": {},
          "execution_count": 67
        }
      ]
    },
    {
      "cell_type": "code",
      "source": [
        "from sklearn.metrics import confusion_matrix\n",
        "import seaborn as sns\n",
        "\n",
        "y_preds = np_predict(np_X_test)\n",
        "y_true = np_y_test\n",
        "\n",
        "conf_matrix = confusion_matrix(y_true, y_preds)\n",
        "\n",
        "plt.figure(figsize=(10, 8))\n",
        "sns.heatmap(conf_matrix, annot=True, fmt=\"d\", cmap=\"Blues\")\n",
        "plt.xlabel(\"Predicted\")\n",
        "plt.ylabel(\"True\")\n",
        "plt.show()"
      ],
      "metadata": {
        "colab": {
          "base_uri": "https://localhost:8080/",
          "height": 673
        },
        "id": "d_YSB3-knEyc",
        "outputId": "ecc7e343-597d-4831-9175-e46263a506f0"
      },
      "execution_count": 73,
      "outputs": [
        {
          "output_type": "display_data",
          "data": {
            "text/plain": [
              "<Figure size 1000x800 with 2 Axes>"
            ],
            "image/png": "[encoded data removed]"
          },
          "metadata": {}
        }
      ]
    },
    {
      "cell_type": "markdown",
      "source": [
        "## TODO\n",
        "\n",
        "Add training (loss, acc) graphs."
      ],
      "metadata": {
        "id": "DzMlq7t7asbZ"
      }
    }
  ]
}