{
  "nbformat": 4,
  "nbformat_minor": 0,
  "metadata": {
    "colab": {
      "provenance": [],
      "gpuType": "T4"
    },
    "kernelspec": {
      "name": "python3",
      "display_name": "Python 3"
    },
    "language_info": {
      "name": "python"
    },
    "accelerator": "GPU"
  },
  "cells": [
    {
      "cell_type": "markdown",
      "source": [
        "## Goal\n",
        "Try to train MNIST on different balanced and unbalanced criterias and get good performance (~90%). Examples:\n",
        "balanced - split MNIST digits into even and odd and then train it (pretty easy)\n",
        "unbalanced - split MNIST into divisible by 3 and not divisible by 3 (a bit harder)"
      ],
      "metadata": {
        "id": "zgDjAxKFbQ-I"
      }
    },
    {
      "cell_type": "code",
      "execution_count": 1,
      "metadata": {
        "id": "2sRS3rYEbLCB"
      },
      "outputs": [],
      "source": [
        "import matplotlib.pyplot as plt\n",
        "import math\n",
        "import random\n",
        "import numpy as np\n",
        "import seaborn as sns\n",
        "\n",
        "import torch\n",
        "import torch.nn as nn\n",
        "import torch.nn.functional as F\n",
        "import torch.optim as optim\n",
        "import torchvision\n",
        "\n",
        "seed = 0\n",
        "%matplotlib inline"
      ]
    },
    {
      "cell_type": "code",
      "source": [
        "# hyperparams\n",
        "lr = 1e-3\n",
        "lr_decay = 1e-2\n",
        "bs = 32\n",
        "max_iters = 2_000\n",
        "eval_freq = max_iters // 10\n",
        "show_freq = max_iters // 10\n",
        "train_val_div = 0.9\n",
        "eval_iters = 100\n",
        "device = \"cuda\" if torch.cuda.is_available() else \"cpu\"\n",
        "torch.set_default_device(device)"
      ],
      "metadata": {
        "id": "Ce_LHLy0Wfj_"
      },
      "execution_count": 2,
      "outputs": []
    },
    {
      "cell_type": "code",
      "source": [
        "train_set = torchvision.datasets.MNIST(root=\"./\", train=True, transform=torchvision.transforms.ToTensor(), download=True)\n",
        "test_set = torchvision.datasets.MNIST(root=\"./\", train=False, transform=torchvision.transforms.ToTensor(), download=True)"
      ],
      "metadata": {
        "id": "CU6dF3a0b0kV"
      },
      "execution_count": 3,
      "outputs": []
    },
    {
      "cell_type": "code",
      "source": [
        "X_trainval = train_set.data.float() / 255.\n",
        "y_trainval = train_set.targets\n",
        "X_test = (test_set.data.float() / 255.).to(device)\n",
        "y_test = test_set.targets.to(device)"
      ],
      "metadata": {
        "id": "o9sZIujirUpx"
      },
      "execution_count": 4,
      "outputs": []
    },
    {
      "cell_type": "code",
      "source": [
        "X_trainval.shape, y_trainval.shape, X_test.shape, y_test.shape"
      ],
      "metadata": {
        "colab": {
          "base_uri": "https://localhost:8080/"
        },
        "id": "Dsn8bjOsrXyu",
        "outputId": "96b83a70-aad8-4fef-9b8a-d6d2c9eebdd7"
      },
      "execution_count": 5,
      "outputs": [
        {
          "output_type": "execute_result",
          "data": {
            "text/plain": [
              "(torch.Size([60000, 28, 28]),\n",
              " torch.Size([60000]),\n",
              " torch.Size([10000, 28, 28]),\n",
              " torch.Size([10000]))"
            ]
          },
          "metadata": {},
          "execution_count": 5
        }
      ]
    },
    {
      "cell_type": "code",
      "source": [
        "from sklearn.model_selection import train_test_split\n",
        "\n",
        "# Splitting the data into training and validation sets\n",
        "X_train, X_val, y_train, y_val = train_test_split(X_trainval, y_trainval, test_size=1-train_val_div, stratify=y_trainval, random_state=42)\n",
        "\n",
        "# Convert to PyTorch tensors and normalize\n",
        "X_train = torch.tensor(X_train).float()\n",
        "X_val = torch.tensor(X_val).float()\n",
        "y_train = torch.tensor(y_train)\n",
        "y_val = torch.tensor(y_val)"
      ],
      "metadata": {
        "colab": {
          "base_uri": "https://localhost:8080/"
        },
        "id": "Oz3Fezpmraeb",
        "outputId": "21be5da6-07b2-45a3-dd47-d355638ba69d"
      },
      "execution_count": 6,
      "outputs": [
        {
          "output_type": "stream",
          "name": "stderr",
          "text": [
            "/usr/local/lib/python3.10/dist-packages/torch/utils/_device.py:62: UserWarning: To copy construct from a tensor, it is recommended to use sourceTensor.clone().detach() or sourceTensor.clone().detach().requires_grad_(True), rather than torch.tensor(sourceTensor).\n",
            "  return func(*args, **kwargs)\n"
          ]
        }
      ]
    },
    {
      "cell_type": "code",
      "source": [
        "def get_batch(X, y):\n",
        "    idx = torch.tensor(np.random.choice(X.shape[0], size=bs, replace=False), dtype=torch.long)\n",
        "    Xb = X[idx].view(-1, 1, 28, 28)\n",
        "    yb = y[idx].view(-1, 1).float()\n",
        "    return Xb, yb"
      ],
      "metadata": {
        "id": "_KVGOsd0W2A6"
      },
      "execution_count": 7,
      "outputs": []
    },
    {
      "cell_type": "markdown",
      "source": [
        "## Predicting even or odd (?)"
      ],
      "metadata": {
        "id": "rOxula-Qr70d"
      }
    },
    {
      "cell_type": "code",
      "source": [
        "torch.manual_seed(seed)"
      ],
      "metadata": {
        "colab": {
          "base_uri": "https://localhost:8080/"
        },
        "id": "8lOUHWeGa1QR",
        "outputId": "f4e78771-ae44-415f-d137-2a56cecd9f08"
      },
      "execution_count": 8,
      "outputs": [
        {
          "output_type": "execute_result",
          "data": {
            "text/plain": [
              "<torch._C.Generator at 0x78443a3104f0>"
            ]
          },
          "metadata": {},
          "execution_count": 8
        }
      ]
    },
    {
      "cell_type": "code",
      "source": [
        "y_train_oe = (y_train % 2 == 1).int()\n",
        "y_val_oe = (y_val % 2 == 1).int()\n",
        "y_test_oe = (y_test % 2 == 1).int()"
      ],
      "metadata": {
        "id": "2QavgaIlrbu5"
      },
      "execution_count": 9,
      "outputs": []
    },
    {
      "cell_type": "code",
      "source": [
        "@torch.no_grad()\n",
        "def eval(X, y):\n",
        "    model.eval()\n",
        "    losses = torch.zeros(eval_iters)\n",
        "    accs = torch.zeros(eval_iters)\n",
        "\n",
        "    for i in range(eval_iters):\n",
        "        Xb, yb = get_batch(X, y)\n",
        "        logits = model(Xb)\n",
        "        loss = criterion(logits, yb)\n",
        "        acc = ((torch.sigmoid(logits) > 0.5).float() == yb).float().mean() * 100\n",
        "\n",
        "        losses[i] = loss.item()\n",
        "        accs[i] = acc.item()\n",
        "\n",
        "    model.train()\n",
        "    avg_loss = losses.mean().item()\n",
        "    avg_acc = accs.mean().item()\n",
        "    return avg_loss, avg_acc"
      ],
      "metadata": {
        "id": "_ODzPKSol1GO"
      },
      "execution_count": 10,
      "outputs": []
    },
    {
      "cell_type": "code",
      "source": [
        "class CNN(nn.Module):\n",
        "\n",
        "    def __init__(self):\n",
        "        super().__init__()\n",
        "        self.conv1 = nn.Conv2d(1, 16, 3, padding=1)\n",
        "        self.conv2 = nn.Conv2d(16, 32, 3, padding=1)\n",
        "        self.conv3 = nn.Conv2d(32, 32, 3, padding=1)\n",
        "        self.relu = nn.ReLU()\n",
        "        self.maxp = nn.MaxPool2d(2, 2)\n",
        "        self.fc = nn.Linear(3 * 3 * 32, 1)\n",
        "\n",
        "    def forward(self, x):\n",
        "        x = self.maxp(self.relu(self.conv1(x)))\n",
        "        x = self.maxp(self.relu(self.conv2(x)))\n",
        "        x = self.maxp(self.relu(self.conv3(x)))\n",
        "        x = x.view(-1, 3 * 3 * 32)\n",
        "        x = self.fc(x)\n",
        "        return x"
      ],
      "metadata": {
        "id": "5r3PTuKxsfQe"
      },
      "execution_count": 11,
      "outputs": []
    },
    {
      "cell_type": "code",
      "source": [
        "model = CNN()\n",
        "criterion = nn.BCEWithLogitsLoss()\n",
        "optimizer = optim.AdamW(model.parameters(), lr=lr)"
      ],
      "metadata": {
        "id": "kNYrD0TYVoEB"
      },
      "execution_count": 12,
      "outputs": []
    },
    {
      "cell_type": "code",
      "source": [
        "for i in range(max_iters):\n",
        "    X, y = get_batch(X_train, y_train_oe)\n",
        "    logits = model(X)\n",
        "    loss = criterion(logits, y)\n",
        "    optimizer.zero_grad()\n",
        "    loss.backward()\n",
        "    optimizer.step()\n",
        "\n",
        "    if i % show_freq == show_freq - 1:\n",
        "        train_loss, train_acc = eval(X_train, y_train_oe)\n",
        "        val_loss, val_acc = eval(X_val, y_val_oe)\n",
        "\n",
        "        print(f\"Epoch: {i:5d} | Train loss: {train_loss:.4f} | Train acc: {train_acc:.2f}% | Val loss: {val_loss:.4f} | Val acc: {val_acc:.2f}%\")"
      ],
      "metadata": {
        "colab": {
          "base_uri": "https://localhost:8080/"
        },
        "id": "Ay4460bWzeQC",
        "outputId": "2c6dab84-3573-4517-d741-66b2cce39826"
      },
      "execution_count": 13,
      "outputs": [
        {
          "output_type": "stream",
          "name": "stdout",
          "text": [
            "Epoch:   199 | Train loss: 0.1517 | Train acc: 94.31% | Val loss: 0.1613 | Val acc: 94.12%\n",
            "Epoch:   399 | Train loss: 0.0880 | Train acc: 96.97% | Val loss: 0.0992 | Val acc: 96.34%\n",
            "Epoch:   599 | Train loss: 0.0786 | Train acc: 97.09% | Val loss: 0.0761 | Val acc: 97.25%\n",
            "Epoch:   799 | Train loss: 0.0585 | Train acc: 98.19% | Val loss: 0.0644 | Val acc: 98.00%\n",
            "Epoch:   999 | Train loss: 0.0580 | Train acc: 98.03% | Val loss: 0.0579 | Val acc: 97.62%\n",
            "Epoch:  1199 | Train loss: 0.0724 | Train acc: 97.62% | Val loss: 0.0745 | Val acc: 97.50%\n",
            "Epoch:  1399 | Train loss: 0.0572 | Train acc: 98.09% | Val loss: 0.0682 | Val acc: 97.34%\n",
            "Epoch:  1599 | Train loss: 0.0450 | Train acc: 98.38% | Val loss: 0.0504 | Val acc: 98.03%\n",
            "Epoch:  1799 | Train loss: 0.0479 | Train acc: 98.34% | Val loss: 0.0525 | Val acc: 98.16%\n",
            "Epoch:  1999 | Train loss: 0.0565 | Train acc: 97.94% | Val loss: 0.0553 | Val acc: 97.84%\n"
          ]
        }
      ]
    },
    {
      "cell_type": "code",
      "source": [
        "eval(X_train, y_train_oe)"
      ],
      "metadata": {
        "colab": {
          "base_uri": "https://localhost:8080/"
        },
        "id": "0bzDevV3m4dm",
        "outputId": "4b786979-b755-445e-a28b-daa16ca0c5a7"
      },
      "execution_count": 14,
      "outputs": [
        {
          "output_type": "execute_result",
          "data": {
            "text/plain": [
              "(0.057930927723646164, 97.9375)"
            ]
          },
          "metadata": {},
          "execution_count": 14
        }
      ]
    },
    {
      "cell_type": "code",
      "source": [
        "eval(X_val, y_val_oe)"
      ],
      "metadata": {
        "colab": {
          "base_uri": "https://localhost:8080/"
        },
        "id": "lKJMkHWrp1Q_",
        "outputId": "b1ce1a90-9846-4d87-ec29-91ae51e089ee"
      },
      "execution_count": 15,
      "outputs": [
        {
          "output_type": "execute_result",
          "data": {
            "text/plain": [
              "(0.05892021954059601, 97.90625)"
            ]
          },
          "metadata": {},
          "execution_count": 15
        }
      ]
    },
    {
      "cell_type": "code",
      "source": [
        "eval(X_test, y_test_oe)"
      ],
      "metadata": {
        "colab": {
          "base_uri": "https://localhost:8080/"
        },
        "id": "eZ1kog9pp3Io",
        "outputId": "df1a353c-b2ed-4b63-c07f-552468e3502b"
      },
      "execution_count": 16,
      "outputs": [
        {
          "output_type": "execute_result",
          "data": {
            "text/plain": [
              "(0.05499708652496338, 98.0625)"
            ]
          },
          "metadata": {},
          "execution_count": 16
        }
      ]
    },
    {
      "cell_type": "code",
      "source": [
        "plt.imshow(X_train[0].cpu())"
      ],
      "metadata": {
        "colab": {
          "base_uri": "https://localhost:8080/",
          "height": 447
        },
        "id": "FE_qxDWkp9Kz",
        "outputId": "c7968df7-b41d-4856-8f6d-d357e4fbf61c"
      },
      "execution_count": 17,
      "outputs": [
        {
          "output_type": "execute_result",
          "data": {
            "text/plain": [
              "<matplotlib.image.AxesImage at 0x7843bceb26e0>"
            ]
          },
          "metadata": {},
          "execution_count": 17
        },
        {
          "output_type": "display_data",
          "data": {
            "text/plain": [
              "<Figure size 640x480 with 1 Axes>"
            ],
            "image/png": "[encoded data removed]"
          },
          "metadata": {}
        }
      ]
    },
    {
      "cell_type": "code",
      "source": [
        "def predict(X):\n",
        "    if X.shape[-3:] != (1, 28, 28):\n",
        "        X = X.view(-1, 1, 28, 28)\n",
        "\n",
        "    logits = model(X)\n",
        "    preds = (torch.sigmoid(logits) > 0.5).int()\n",
        "    if preds.shape[0] == 1:\n",
        "        return preds.item()\n",
        "    else:\n",
        "        return preds"
      ],
      "metadata": {
        "id": "0WbQaxQEuf9m"
      },
      "execution_count": 18,
      "outputs": []
    },
    {
      "cell_type": "code",
      "source": [
        "torch.cuda.empty_cache()\n",
        "y_preds = predict(X_test).cpu()\n",
        "y_true = y_test_oe.cpu()\n",
        "\n",
        "from sklearn.metrics import confusion_matrix\n",
        "conf_matrix = confusion_matrix(y_true, y_preds)\n",
        "plt.figure(figsize=(5, 4))\n",
        "sns.heatmap(conf_matrix, annot=True, fmt=\"d\", cmap=\"Blues\")\n",
        "plt.xlabel(\"Predicted\")\n",
        "plt.ylabel(\"True\")\n",
        "plt.show()"
      ],
      "metadata": {
        "colab": {
          "base_uri": "https://localhost:8080/",
          "height": 391
        },
        "id": "c9k1tov0vLjZ",
        "outputId": "bccf72ad-ca79-4b2a-d949-1e9e036da774"
      },
      "execution_count": 19,
      "outputs": [
        {
          "output_type": "display_data",
          "data": {
            "text/plain": [
              "<Figure size 500x400 with 2 Axes>"
            ],
            "image/png": "[encoded data removed]"
          },
          "metadata": {}
        }
      ]
    },
    {
      "cell_type": "markdown",
      "source": [
        "## Predicting is 8 (?) (Highly unbalanced dataset with 10% being 1 class and 90% being the other class)"
      ],
      "metadata": {
        "id": "os8DbH0lygR9"
      }
    },
    {
      "cell_type": "code",
      "source": [
        "pos_indices_train = torch.where(y_train == 8)[0]\n",
        "neg_indices_train = torch.where(y_train != 8)[0]\n",
        "y_train_8 = y_train.clone()\n",
        "y_train_8[pos_indices_train] = 1\n",
        "y_train_8[neg_indices_train] = 0\n",
        "\n",
        "pos_indices_val = torch.where(y_val == 8)[0]\n",
        "neg_indices_val = torch.where(y_val != 8)[0]\n",
        "y_val_8 = y_val.clone()\n",
        "y_val_8[pos_indices_val] = 1\n",
        "y_val_8[neg_indices_val] = 0\n",
        "\n",
        "pos_indices_test = torch.where(y_test == 8)[0]\n",
        "neg_indices_test = torch.where(y_test != 8)[0]\n",
        "y_test_8 = y_test.clone()\n",
        "y_test_8[pos_indices_test] = 1\n",
        "y_test_8[neg_indices_test] = 0"
      ],
      "metadata": {
        "id": "O-0nnmkhy_WX"
      },
      "execution_count": 20,
      "outputs": []
    },
    {
      "cell_type": "code",
      "source": [
        "@torch.no_grad()\n",
        "def eval(X, y):\n",
        "    model.eval()\n",
        "    losses = torch.zeros(eval_iters)\n",
        "    accs = torch.zeros(eval_iters)\n",
        "\n",
        "    for i in range(eval_iters):\n",
        "        Xb, yb = get_batch(X, y)\n",
        "        logits = model(Xb)\n",
        "        loss = criterion(logits, yb)\n",
        "        acc = ((torch.sigmoid(logits) > 0.5).float() == yb).float().mean() * 100\n",
        "\n",
        "        losses[i] = loss.item()\n",
        "        accs[i] = acc.item()\n",
        "\n",
        "    model.train()\n",
        "    avg_loss = losses.mean().item()\n",
        "    avg_acc = accs.mean().item()\n",
        "    return avg_loss, avg_acc"
      ],
      "metadata": {
        "id": "Z_7fvXwb1LI_"
      },
      "execution_count": 21,
      "outputs": []
    },
    {
      "cell_type": "code",
      "source": [
        "class CNN(nn.Module):\n",
        "\n",
        "    def __init__(self):\n",
        "        super().__init__()\n",
        "        self.conv1 = nn.Conv2d(1, 16, 3, padding=1)\n",
        "        self.conv2 = nn.Conv2d(16, 32, 3, padding=1)\n",
        "        self.conv3 = nn.Conv2d(32, 32, 3, padding=1)\n",
        "        self.relu = nn.ReLU()\n",
        "        self.maxp = nn.MaxPool2d(2, 2)\n",
        "        self.fc = nn.Linear(3 * 3 * 32, 1)\n",
        "\n",
        "    def forward(self, x):\n",
        "        x = self.maxp(self.relu(self.conv1(x)))\n",
        "        x = self.maxp(self.relu(self.conv2(x)))\n",
        "        x = self.maxp(self.relu(self.conv3(x)))\n",
        "        x = x.view(-1, 3 * 3 * 32)\n",
        "        x = self.fc(x)\n",
        "        return x"
      ],
      "metadata": {
        "id": "ceL5ifQI1RyG"
      },
      "execution_count": 22,
      "outputs": []
    },
    {
      "cell_type": "markdown",
      "source": [
        "## Without adding class weights"
      ],
      "metadata": {
        "id": "nxCYCLN-9rya"
      }
    },
    {
      "cell_type": "code",
      "source": [
        "torch.manual_seed(seed)\n",
        "model = CNN()\n",
        "criterion = nn.BCEWithLogitsLoss()\n",
        "optimizer = optim.AdamW(model.parameters(), lr=lr)"
      ],
      "metadata": {
        "id": "z6Ktjz9U1awB"
      },
      "execution_count": 23,
      "outputs": []
    },
    {
      "cell_type": "code",
      "source": [
        "for i in range(max_iters):\n",
        "    X, y = get_batch(X_train, y_train_8)\n",
        "    logits = model(X)\n",
        "    loss = criterion(logits, y)\n",
        "    optimizer.zero_grad()\n",
        "    loss.backward()\n",
        "    optimizer.step()\n",
        "\n",
        "    if i % show_freq == show_freq - 1:\n",
        "        train_loss, train_acc = eval(X_train, y_train_8)\n",
        "        val_loss, val_acc = eval(X_val, y_val_8)\n",
        "\n",
        "        print(f\"Epoch: {i:5d} | Train loss: {train_loss:.4f} | Train acc: {train_acc:.2f}% | Val loss: {val_loss:.4f} | Val acc: {val_acc:.2f}%\")"
      ],
      "metadata": {
        "colab": {
          "base_uri": "https://localhost:8080/"
        },
        "id": "i0yv0hYZ45gD",
        "outputId": "21c25d8c-e986-4ae6-8a59-554058ef97c3"
      },
      "execution_count": 24,
      "outputs": [
        {
          "output_type": "stream",
          "name": "stdout",
          "text": [
            "Epoch:   199 | Train loss: 0.2013 | Train acc: 91.38% | Val loss: 0.2024 | Val acc: 91.31%\n",
            "Epoch:   399 | Train loss: 0.0777 | Train acc: 97.50% | Val loss: 0.0775 | Val acc: 97.50%\n",
            "Epoch:   599 | Train loss: 0.0645 | Train acc: 98.22% | Val loss: 0.0626 | Val acc: 97.97%\n",
            "Epoch:   799 | Train loss: 0.0584 | Train acc: 98.25% | Val loss: 0.0534 | Val acc: 98.31%\n",
            "Epoch:   999 | Train loss: 0.0318 | Train acc: 98.94% | Val loss: 0.0306 | Val acc: 99.09%\n",
            "Epoch:  1199 | Train loss: 0.0339 | Train acc: 99.03% | Val loss: 0.0326 | Val acc: 98.94%\n",
            "Epoch:  1399 | Train loss: 0.0208 | Train acc: 99.25% | Val loss: 0.0190 | Val acc: 99.41%\n",
            "Epoch:  1599 | Train loss: 0.0277 | Train acc: 99.12% | Val loss: 0.0173 | Val acc: 99.47%\n",
            "Epoch:  1799 | Train loss: 0.0241 | Train acc: 99.16% | Val loss: 0.0185 | Val acc: 99.47%\n",
            "Epoch:  1999 | Train loss: 0.0264 | Train acc: 99.12% | Val loss: 0.0234 | Val acc: 99.22%\n"
          ]
        }
      ]
    },
    {
      "cell_type": "code",
      "source": [
        "eval(X_train, y_train_8)"
      ],
      "metadata": {
        "colab": {
          "base_uri": "https://localhost:8080/"
        },
        "id": "W2wBSpy846IA",
        "outputId": "553debed-c914-4c3b-ca1a-45dd8b3120fc"
      },
      "execution_count": 25,
      "outputs": [
        {
          "output_type": "execute_result",
          "data": {
            "text/plain": [
              "(0.027047500014305115, 99.125)"
            ]
          },
          "metadata": {},
          "execution_count": 25
        }
      ]
    },
    {
      "cell_type": "code",
      "source": [
        "eval(X_val, y_val_8)"
      ],
      "metadata": {
        "colab": {
          "base_uri": "https://localhost:8080/"
        },
        "id": "oB2kCsk-45kd",
        "outputId": "d7def6ee-8010-4b7a-959f-10f4e80719fd"
      },
      "execution_count": 26,
      "outputs": [
        {
          "output_type": "execute_result",
          "data": {
            "text/plain": [
              "(0.016243819147348404, 99.3125)"
            ]
          },
          "metadata": {},
          "execution_count": 26
        }
      ]
    },
    {
      "cell_type": "code",
      "source": [
        "eval(X_test, y_test_8)"
      ],
      "metadata": {
        "colab": {
          "base_uri": "https://localhost:8080/"
        },
        "id": "VVHQ73R345oU",
        "outputId": "4039e9ea-c5ab-4027-ecbf-bdc6d4f48a82"
      },
      "execution_count": 27,
      "outputs": [
        {
          "output_type": "execute_result",
          "data": {
            "text/plain": [
              "(0.024607572704553604, 99.28125)"
            ]
          },
          "metadata": {},
          "execution_count": 27
        }
      ]
    },
    {
      "cell_type": "code",
      "source": [
        "torch.cuda.empty_cache()\n",
        "y_preds = predict(X_test).cpu()\n",
        "y_true = y_test_8.cpu()\n",
        "\n",
        "conf_matrix = confusion_matrix(y_true, y_preds)\n",
        "plt.figure(figsize=(5, 4))\n",
        "sns.heatmap(conf_matrix, annot=True, fmt=\"d\", cmap=\"Blues\")\n",
        "plt.xlabel(\"Predicted\")\n",
        "plt.ylabel(\"True\")\n",
        "plt.show()"
      ],
      "metadata": {
        "colab": {
          "base_uri": "https://localhost:8080/",
          "height": 388
        },
        "id": "EDvJ6Bbo7wQt",
        "outputId": "69a6b732-0eb3-466d-b498-785ec25d3231"
      },
      "execution_count": 28,
      "outputs": [
        {
          "output_type": "display_data",
          "data": {
            "text/plain": [
              "<Figure size 500x400 with 2 Axes>"
            ],
            "image/png": "[encoded data removed]"
          },
          "metadata": {}
        }
      ]
    },
    {
      "cell_type": "markdown",
      "source": [
        "## With added class weights"
      ],
      "metadata": {
        "id": "QhOqw4oa9wUi"
      }
    },
    {
      "cell_type": "code",
      "source": [
        "torch.manual_seed(seed)\n",
        "model = CNN()\n",
        "unique_classes, counts = torch.unique(y_train_8, return_counts=True)\n",
        "class_weights = (counts.float() / y_train_8.shape[0])**-1\n",
        "criterion = nn.BCEWithLogitsLoss(pos_weight=class_weights[1])\n",
        "optimizer = optim.AdamW(model.parameters(), lr=lr)"
      ],
      "metadata": {
        "id": "oHNriDr588bU"
      },
      "execution_count": 29,
      "outputs": []
    },
    {
      "cell_type": "code",
      "source": [
        "for i in range(max_iters):\n",
        "    X, y = get_batch(X_train, y_train_8)\n",
        "    logits = model(X)\n",
        "    loss = criterion(logits, y)\n",
        "    optimizer.zero_grad()\n",
        "    loss.backward()\n",
        "    optimizer.step()\n",
        "\n",
        "    if i % show_freq == show_freq - 1:\n",
        "        train_loss, train_acc = eval(X_train, y_train_8)\n",
        "        val_loss, val_acc = eval(X_val, y_val_8)\n",
        "\n",
        "        print(f\"Epoch: {i:5d} | Train loss: {train_loss:.4f} | Train acc: {train_acc:.2f}% | Val loss: {val_loss:.4f} | Val acc: {val_acc:.2f}%\")"
      ],
      "metadata": {
        "colab": {
          "base_uri": "https://localhost:8080/"
        },
        "id": "cfsGVGso1fwO",
        "outputId": "0d8c4d6f-dd33-4811-cd2b-228a9ac1a716"
      },
      "execution_count": 30,
      "outputs": [
        {
          "output_type": "stream",
          "name": "stdout",
          "text": [
            "Epoch:   199 | Train loss: 0.3357 | Train acc: 96.06% | Val loss: 0.2832 | Val acc: 96.03%\n",
            "Epoch:   399 | Train loss: 0.2579 | Train acc: 93.16% | Val loss: 0.2285 | Val acc: 93.62%\n",
            "Epoch:   599 | Train loss: 0.1818 | Train acc: 95.56% | Val loss: 0.2090 | Val acc: 94.94%\n",
            "Epoch:   799 | Train loss: 0.1252 | Train acc: 96.97% | Val loss: 0.1474 | Val acc: 96.50%\n",
            "Epoch:   999 | Train loss: 0.1632 | Train acc: 95.06% | Val loss: 0.1855 | Val acc: 93.97%\n",
            "Epoch:  1199 | Train loss: 0.0957 | Train acc: 98.62% | Val loss: 0.1161 | Val acc: 98.28%\n",
            "Epoch:  1399 | Train loss: 0.0973 | Train acc: 97.34% | Val loss: 0.1409 | Val acc: 95.72%\n",
            "Epoch:  1599 | Train loss: 0.1013 | Train acc: 98.38% | Val loss: 0.1089 | Val acc: 98.19%\n",
            "Epoch:  1799 | Train loss: 0.0749 | Train acc: 99.00% | Val loss: 0.1240 | Val acc: 98.53%\n",
            "Epoch:  1999 | Train loss: 0.1506 | Train acc: 94.25% | Val loss: 0.2102 | Val acc: 92.78%\n"
          ]
        }
      ]
    },
    {
      "cell_type": "code",
      "source": [
        "eval(X_train, y_train_8)"
      ],
      "metadata": {
        "colab": {
          "base_uri": "https://localhost:8080/"
        },
        "id": "cJkwdBgN1itI",
        "outputId": "74fba5c9-70bd-4df0-8c9b-ce344c023978"
      },
      "execution_count": 31,
      "outputs": [
        {
          "output_type": "execute_result",
          "data": {
            "text/plain": [
              "(0.16160160303115845, 94.28125)"
            ]
          },
          "metadata": {},
          "execution_count": 31
        }
      ]
    },
    {
      "cell_type": "code",
      "source": [
        "eval(X_val, y_val_8)"
      ],
      "metadata": {
        "colab": {
          "base_uri": "https://localhost:8080/"
        },
        "id": "5XJP1IWY1jP2",
        "outputId": "792cce35-1901-40aa-87f5-f940399d4f6f"
      },
      "execution_count": 32,
      "outputs": [
        {
          "output_type": "execute_result",
          "data": {
            "text/plain": [
              "(0.19552329182624817, 93.1875)"
            ]
          },
          "metadata": {},
          "execution_count": 32
        }
      ]
    },
    {
      "cell_type": "code",
      "source": [
        "eval(X_test, y_test_8)"
      ],
      "metadata": {
        "colab": {
          "base_uri": "https://localhost:8080/"
        },
        "id": "UBInHdkc1wKy",
        "outputId": "0f49a6aa-0c43-4fa5-9855-e814b87cbb77"
      },
      "execution_count": 33,
      "outputs": [
        {
          "output_type": "execute_result",
          "data": {
            "text/plain": [
              "(0.16854438185691833, 93.90625)"
            ]
          },
          "metadata": {},
          "execution_count": 33
        }
      ]
    },
    {
      "cell_type": "code",
      "source": [
        "torch.cuda.empty_cache()\n",
        "y_preds = predict(X_test).cpu()\n",
        "y_true = y_test_8.cpu()\n",
        "\n",
        "conf_matrix = confusion_matrix(y_true, y_preds)\n",
        "plt.figure(figsize=(5, 4))\n",
        "sns.heatmap(conf_matrix, annot=True, fmt=\"d\", cmap=\"Blues\")\n",
        "plt.xlabel(\"Predicted\")\n",
        "plt.ylabel(\"True\")\n",
        "plt.show()"
      ],
      "metadata": {
        "colab": {
          "base_uri": "https://localhost:8080/",
          "height": 388
        },
        "id": "g3mS8HOF10Hu",
        "outputId": "0b53d222-ff0f-4739-a91b-ae66b271d0ff"
      },
      "execution_count": 34,
      "outputs": [
        {
          "output_type": "display_data",
          "data": {
            "text/plain": [
              "<Figure size 500x400 with 2 Axes>"
            ],
            "image/png": "[encoded data removed]"
          },
          "metadata": {}
        }
      ]
    },
    {
      "cell_type": "markdown",
      "source": [
        "## Conclusion\n",
        "It seems like adding class weights only ruins the performance here. Not sure why. Will try to test this on harder datasets."
      ],
      "metadata": {
        "id": "GscGiQ46A0PJ"
      }
    }
  ]
}