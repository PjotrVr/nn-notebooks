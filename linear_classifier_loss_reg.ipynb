{
  "nbformat": 4,
  "nbformat_minor": 0,
  "metadata": {
    "colab": {
      "provenance": []
    },
    "kernelspec": {
      "name": "python3",
      "display_name": "Python 3"
    },
    "language_info": {
      "name": "python"
    }
  },
  "cells": [
    {
      "cell_type": "code",
      "execution_count": 1,
      "metadata": {
        "id": "22QFflRLF9np"
      },
      "outputs": [],
      "source": [
        "import math\n",
        "import numpy as np\n",
        "import matplotlib.pyplot as plt\n",
        "import torch\n",
        "\n",
        "%matplotlib inline"
      ]
    },
    {
      "cell_type": "code",
      "source": [
        "W = torch.tensor([0.2, -0.5, 0.1, 2.0, 1.5, 1.3, 2.1, 0.0, 0.0, 0.25, 0.2, -0.3]).view(3, 4).float().clone()\n",
        "b = torch.tensor([1.1, 3.2, -1.2]).view(3, 1).float().clone()\n",
        "x = torch.tensor([56, 231, 24, 2]).view(4, 1).float().clone()"
      ],
      "metadata": {
        "id": "-14LyBw0GE7I"
      },
      "execution_count": 5,
      "outputs": []
    },
    {
      "cell_type": "code",
      "source": [
        "def linear_layer(x, W, b):\n",
        "    return W @ x + b"
      ],
      "metadata": {
        "id": "BdMYpVNl3ius"
      },
      "execution_count": 6,
      "outputs": []
    },
    {
      "cell_type": "code",
      "source": [
        "linear_layer(x, W, b)"
      ],
      "metadata": {
        "colab": {
          "base_uri": "https://localhost:8080/"
        },
        "id": "7IP24y8j3nYT",
        "outputId": "a3dfce76-bb20-4a1b-9663-e49003ebd00d"
      },
      "execution_count": 7,
      "outputs": [
        {
          "output_type": "execute_result",
          "data": {
            "text/plain": [
              "tensor([[-96.8000],\n",
              "        [437.9000],\n",
              "        [ 60.7500]])"
            ]
          },
          "metadata": {},
          "execution_count": 7
        }
      ]
    },
    {
      "cell_type": "code",
      "source": [
        "new_W = torch.cat((W, b), dim=1)\n",
        "new_x = torch.cat((x, torch.tensor([1]).view(1, 1)), dim=0)"
      ],
      "metadata": {
        "id": "BFa_MbeR3qGH"
      },
      "execution_count": 12,
      "outputs": []
    },
    {
      "cell_type": "code",
      "source": [
        "new_W"
      ],
      "metadata": {
        "colab": {
          "base_uri": "https://localhost:8080/"
        },
        "id": "GmlPY7-K32EO",
        "outputId": "ca569059-553e-4032-b7c9-e05ac652eabf"
      },
      "execution_count": 11,
      "outputs": [
        {
          "output_type": "execute_result",
          "data": {
            "text/plain": [
              "tensor([[ 0.2000, -0.5000,  0.1000,  2.0000,  1.1000],\n",
              "        [ 1.5000,  1.3000,  2.1000,  0.0000,  3.2000],\n",
              "        [ 0.0000,  0.2500,  0.2000, -0.3000, -1.2000]])"
            ]
          },
          "metadata": {},
          "execution_count": 11
        }
      ]
    },
    {
      "cell_type": "code",
      "source": [
        "new_x"
      ],
      "metadata": {
        "colab": {
          "base_uri": "https://localhost:8080/"
        },
        "id": "qYq1pFss4BJO",
        "outputId": "10d2783d-39c9-48f2-af58-1fd0eadd873b"
      },
      "execution_count": 13,
      "outputs": [
        {
          "output_type": "execute_result",
          "data": {
            "text/plain": [
              "tensor([[ 56.],\n",
              "        [231.],\n",
              "        [ 24.],\n",
              "        [  2.],\n",
              "        [  1.]])"
            ]
          },
          "metadata": {},
          "execution_count": 13
        }
      ]
    },
    {
      "cell_type": "code",
      "source": [
        "def linear_layer_bias_trick(x, W):\n",
        "    return W @ x"
      ],
      "metadata": {
        "id": "5euFYWxl4LWZ"
      },
      "execution_count": 14,
      "outputs": []
    },
    {
      "cell_type": "code",
      "source": [
        "linear_layer_bias_trick(new_x, new_W)"
      ],
      "metadata": {
        "colab": {
          "base_uri": "https://localhost:8080/"
        },
        "id": "fgiyHqP54Qfm",
        "outputId": "ef031c54-ea2b-4f94-c3b7-0514ef75da07"
      },
      "execution_count": 15,
      "outputs": [
        {
          "output_type": "execute_result",
          "data": {
            "text/plain": [
              "tensor([[-96.8000],\n",
              "        [437.9000],\n",
              "        [ 60.7500]])"
            ]
          },
          "metadata": {},
          "execution_count": 15
        }
      ]
    },
    {
      "cell_type": "code",
      "source": [
        "linear_layer(x, W, b).tolist() == linear_layer_bias_trick(new_x, new_W).tolist()"
      ],
      "metadata": {
        "colab": {
          "base_uri": "https://localhost:8080/"
        },
        "id": "W3kxsh3E4Sbo",
        "outputId": "ed71682b-380b-48f6-bbb0-734903a84331"
      },
      "execution_count": 18,
      "outputs": [
        {
          "output_type": "execute_result",
          "data": {
            "text/plain": [
              "True"
            ]
          },
          "metadata": {},
          "execution_count": 18
        }
      ]
    },
    {
      "cell_type": "code",
      "source": [
        "y_true = torch.tensor([0, 1, 2])"
      ],
      "metadata": {
        "id": "PVY5pvNO4myD"
      },
      "execution_count": 19,
      "outputs": []
    },
    {
      "cell_type": "code",
      "source": [
        "y_pred = linear_layer(x, W, b).view(-1)"
      ],
      "metadata": {
        "id": "XLtxl7ae4taP"
      },
      "execution_count": 20,
      "outputs": []
    },
    {
      "cell_type": "code",
      "source": [
        "def svm_loss_single(y_pred, y_true, delta=1.0):\n",
        "    margins = torch.maximum(torch.tensor(0), y_pred - y_pred[y_true] + delta)\n",
        "    margins[y_true] = 0\n",
        "    loss = margins.sum().item()\n",
        "    return loss"
      ],
      "metadata": {
        "id": "AjnLQ7Yq4Y65"
      },
      "execution_count": 67,
      "outputs": []
    },
    {
      "cell_type": "code",
      "source": [
        "def svm_loss_vect(y_pred, y_true, delta=1.0):\n",
        "    num_samples = y_pred.shape[0]\n",
        "    correct_values = y_pred[torch.arange(num_samples), y_true].unsqueeze(1)\n",
        "    margins = torch.maximum(torch.tensor(0), y_pred - correct_values + torch.tensor(delta))\n",
        "    margins[torch.arange(num_samples), y_true] = 0\n",
        "    loss = margins.sum().item() / num_samples\n",
        "    return loss"
      ],
      "metadata": {
        "id": "EWqAOwHOBqJU"
      },
      "execution_count": 68,
      "outputs": []
    },
    {
      "cell_type": "code",
      "source": [
        "torch.manual_seed(0)\n",
        "num_samples = 50_000\n",
        "X = torch.randn(num_samples, 32, 32, 3).view(num_samples, -1)\n",
        "y = torch.randint(0, 10, (num_samples,))\n",
        "W = torch.randn(10, 32 * 32 * 3)"
      ],
      "metadata": {
        "id": "LklfDj-JCYXo"
      },
      "execution_count": 79,
      "outputs": []
    },
    {
      "cell_type": "code",
      "source": [
        "import time\n",
        "\n",
        "start_time = time.time()\n",
        "loss = 0.0\n",
        "y_pred = X @ W.T\n",
        "for i in range(num_samples):\n",
        "    loss += svm_loss_single(y_pred[i], y[i])\n",
        "loss /= num_samples\n",
        "print(f'Loss is {loss:.2f}')\n",
        "elapsed_time = time.time() - start_time\n",
        "print(f'It took {elapsed_time:.5f}s ({elapsed_time // elapsed_time}x speedup)')"
      ],
      "metadata": {
        "colab": {
          "base_uri": "https://localhost:8080/"
        },
        "id": "2f21s6JzFSwT",
        "outputId": "adce923a-6bcf-4590-9b29-fc764f9a27ba"
      },
      "execution_count": 80,
      "outputs": [
        {
          "output_type": "stream",
          "name": "stdout",
          "text": [
            "Loss is 286.05\n",
            "It took 2.72030s (1.0x speedup)\n"
          ]
        }
      ]
    },
    {
      "cell_type": "code",
      "source": [
        "start_time = time.time()\n",
        "loss = svm_loss_vect(X @ W.T, y)\n",
        "print(f'Loss is {loss:.2f}')\n",
        "fast_elapsed_time = time.time() - start_time\n",
        "print(f'It took {fast_elapsed_time:.5f}s ({elapsed_time // fast_elapsed_time}x speedup)')"
      ],
      "metadata": {
        "colab": {
          "base_uri": "https://localhost:8080/"
        },
        "id": "HB8yMezWFONA",
        "outputId": "33689c1b-3c3a-4e5f-ac07-cb9f09ecc167"
      },
      "execution_count": 82,
      "outputs": [
        {
          "output_type": "stream",
          "name": "stdout",
          "text": [
            "Loss is 286.05\n",
            "It took 0.17112s (15.0x speedup)\n"
          ]
        }
      ]
    },
    {
      "cell_type": "code",
      "source": [
        "def softmax(x):\n",
        "    normalized_x = x - x.max(dim=1, keepdims=True)[0]\n",
        "    exp_x = normalized_x.exp()\n",
        "    sum_exp_x = exp_x.sum(dim=1, keepdims=True)\n",
        "    if torch.any(sum_exp_x == 0):\n",
        "        print('Warning: Zero sum detected')\n",
        "    return exp_x / sum_exp_x"
      ],
      "metadata": {
        "id": "fT75tmoK43dS"
      },
      "execution_count": 104,
      "outputs": []
    },
    {
      "cell_type": "code",
      "source": [
        "def cross_entropy_loss(y_pred, y_true, epsilon=1e-9):\n",
        "    num_samples = y_pred.shape[0]\n",
        "    softmax_output = softmax(y_pred)\n",
        "    picked_values = softmax_output[torch.arange(num_samples), y_true] + epsilon\n",
        "    if torch.any(picked_values == 0):\n",
        "        print('Warning: Zero picked value detected')\n",
        "    loss = -picked_values.log().sum().item() / num_samples\n",
        "    return loss"
      ],
      "metadata": {
        "id": "DrULfD9n43hC"
      },
      "execution_count": 111,
      "outputs": []
    },
    {
      "cell_type": "code",
      "source": [
        "cross_entropy_loss(y_pred, y)"
      ],
      "metadata": {
        "colab": {
          "base_uri": "https://localhost:8080/"
        },
        "id": "sU4Pl5_dJZmS",
        "outputId": "4522317c-af92-4040-b0a5-d3ef395bd6fc"
      },
      "execution_count": 110,
      "outputs": [
        {
          "output_type": "execute_result",
          "data": {
            "text/plain": [
              "17.9293575"
            ]
          },
          "metadata": {},
          "execution_count": 110
        }
      ]
    },
    {
      "cell_type": "code",
      "source": [
        "def l1_regularization(W):\n",
        "    return W.abs().sum()"
      ],
      "metadata": {
        "id": "4yuhA9jd43j6"
      },
      "execution_count": 113,
      "outputs": []
    },
    {
      "cell_type": "code",
      "source": [
        "def l2_regularization(W):\n",
        "    return (W**2).sum()"
      ],
      "metadata": {
        "id": "OVI5gdrJ5EMf"
      },
      "execution_count": 114,
      "outputs": []
    },
    {
      "cell_type": "code",
      "source": [
        "reg_factor = 0.1\n",
        "loss = svm_loss_vect(y_pred, y) + reg_factor * l1_regularization(W)\n",
        "loss"
      ],
      "metadata": {
        "colab": {
          "base_uri": "https://localhost:8080/"
        },
        "id": "C3WlUygcLlXr",
        "outputId": "e84fae7c-c985-4fb1-f2a1-3919661fd90e"
      },
      "execution_count": 117,
      "outputs": [
        {
          "output_type": "execute_result",
          "data": {
            "text/plain": [
              "tensor(2742.6738)"
            ]
          },
          "metadata": {},
          "execution_count": 117
        }
      ]
    },
    {
      "cell_type": "code",
      "source": [
        "reg_factor = 0.1\n",
        "loss = cross_entropy_loss(y_pred, y) + reg_factor * l1_regularization(W)\n",
        "loss"
      ],
      "metadata": {
        "colab": {
          "base_uri": "https://localhost:8080/"
        },
        "id": "l4qvz9O4LiNd",
        "outputId": "1d94d03f-8dff-42cb-85cd-6eb1a67da373"
      },
      "execution_count": 116,
      "outputs": [
        {
          "output_type": "execute_result",
          "data": {
            "text/plain": [
              "tensor(2474.5576)"
            ]
          },
          "metadata": {},
          "execution_count": 116
        }
      ]
    },
    {
      "cell_type": "code",
      "source": [
        "reg_factor = 0.1\n",
        "loss = cross_entropy_loss(y_pred, y) + reg_factor * l2_regularization(W)\n",
        "loss"
      ],
      "metadata": {
        "colab": {
          "base_uri": "https://localhost:8080/"
        },
        "id": "H-OEHpcp5Fbv",
        "outputId": "a2aa263b-0dbc-41c4-ba13-6e94d3f4d161"
      },
      "execution_count": 115,
      "outputs": [
        {
          "output_type": "execute_result",
          "data": {
            "text/plain": [
              "tensor(3109.6365)"
            ]
          },
          "metadata": {},
          "execution_count": 115
        }
      ]
    }
  ]
}